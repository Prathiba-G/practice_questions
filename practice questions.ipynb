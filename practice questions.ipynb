1.def swap_string(input_string):
    parts = input_string.split()
    return f"{parts[1]} {parts[0]} {parts[2].lower()}"

input_string = "Ravi Kumar Patel"
output = swap_string(input_string)
print(output)

2.def find_maximum(numbers):
    max_num = numbers[0]
    for num in numbers:
        if num > max_num:
            max_num = num
    return max_num

numbers = [87, 43, 76, 1, 99, 23, 8]
max_number = find_maximum(numbers)
print(max_number)  

3.def character_occurrence(s):
    occurrence = {}
    for char in s:
        if char.isalpha():  # Count only alphabetic characters
            occurrence[char] = occurrence.get(char, 0) + 1
    return occurrence

s1 = "google"
output = character_occurrence(s1)
print(output)  

4.divisible_by_7 = [num for num in range(1, 1001) if num % 7 == 0]
print(divisible_by_7)

5.input_list = [75, 8, 94, 2, 23, 29, 100]
output = ['even' if num % 2 == 0 else 'odd' for num in input_list]
print(output)  

6.import re

def extract_numbers(input_string):
    return [int(num) for num in re.findall(r'\d+', input_string)]

input_string = 'hello 1 hi 9 . How are 10'
output = extract_numbers(input_string)
print(output)  

7.import re

def is_valid_email(email):
    pattern = r'^[a-zA-Z0-9._%+-]+@[a-zA-Z0-9.-]+\.[a-zA-Z]{2,}$'
    return "correct" if re.match(pattern, email) else "incorrect"

email = "xyz@gmail.com"
output = is_valid_email(email)
print(output)  

8.def remove_whitespace(input_string):
    return input_string.replace(" ", "")

input_string = "Hello World! How are you?"
output = remove_whitespace(input_string)
print(output)  

9.sum_of_numbers = sum([num for num in range(1, 51)])
print(sum_of_numbers)  

10.def is_alphanumeric(s):
    return s.isalnum()

input_string = "abc123"
output = is_alphanumeric(input_string)
print(output)  
